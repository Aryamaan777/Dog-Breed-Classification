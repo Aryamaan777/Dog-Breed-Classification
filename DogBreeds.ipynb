{
  "nbformat": 4,
  "nbformat_minor": 0,
  "metadata": {
    "colab": {
      "name": "DogBreeds.ipynb",
      "provenance": [],
      "collapsed_sections": [],
      "authorship_tag": "ABX9TyO9gM/zZ44R13q3Ie9KzMqS",
      "include_colab_link": true
    },
    "kernelspec": {
      "name": "python3",
      "display_name": "Python 3"
    },
    "accelerator": "GPU"
  },
  "cells": [
    {
      "cell_type": "markdown",
      "metadata": {
        "id": "view-in-github",
        "colab_type": "text"
      },
      "source": [
        "<a href=\"https://colab.research.google.com/github/Aryamaan777/Dog-Breed-Classification/blob/master/DogBreeds.ipynb\" target=\"_parent\"><img src=\"https://colab.research.google.com/assets/colab-badge.svg\" alt=\"Open In Colab\"/></a>"
      ]
    },
    {
      "cell_type": "code",
      "metadata": {
        "id": "5Ikl1JWE_ilH",
        "colab_type": "code",
        "colab": {}
      },
      "source": [
        "!pip install -q kaggle\n",
        "!pip uninstall -y kaggle\n",
        "!pip install --upgrade pip\n",
        "!pip install kaggle==1.5.6\n",
        "!kaggle -v"
      ],
      "execution_count": 0,
      "outputs": []
    },
    {
      "cell_type": "code",
      "metadata": {
        "id": "cEXVZaWi_1v7",
        "colab_type": "code",
        "colab": {}
      },
      "source": [
        "from google.colab import files\n",
        "files.upload()\n",
        "!mkdir ~/.kaggle\n",
        "!cp kaggle.json ~/.kaggle/"
      ],
      "execution_count": 0,
      "outputs": []
    },
    {
      "cell_type": "code",
      "metadata": {
        "id": "m9_bC3GN_4Ln",
        "colab_type": "code",
        "colab": {}
      },
      "source": [
        "!chmod 600 ~/.kaggle/kaggle.json"
      ],
      "execution_count": 0,
      "outputs": []
    },
    {
      "cell_type": "code",
      "metadata": {
        "id": "G_tfCVru_7Fz",
        "colab_type": "code",
        "colab": {}
      },
      "source": [
        "!kaggle competitions download -c dog-breed-identification"
      ],
      "execution_count": 0,
      "outputs": []
    },
    {
      "cell_type": "code",
      "metadata": {
        "id": "fN_yynkb_--n",
        "colab_type": "code",
        "colab": {}
      },
      "source": [
        "!mkdir train\n",
        "!unzip dog-breed-identification.zip"
      ],
      "execution_count": 0,
      "outputs": []
    },
    {
      "cell_type": "code",
      "metadata": {
        "id": "w0mDAHOWADkH",
        "colab_type": "code",
        "outputId": "0245be6e-63eb-4efe-a302-502db49336cf",
        "colab": {
          "base_uri": "https://localhost:8080/",
          "height": 34
        }
      },
      "source": [
        "import tensorflow as tf\n",
        "print(tf.__version__)"
      ],
      "execution_count": 0,
      "outputs": [
        {
          "output_type": "stream",
          "text": [
            "2.2.0-rc3\n"
          ],
          "name": "stdout"
        }
      ]
    },
    {
      "cell_type": "code",
      "metadata": {
        "id": "2lFIeaNTBOHq",
        "colab_type": "code",
        "colab": {}
      },
      "source": [
        "import pandas as pd\n",
        "import numpy as np\n",
        "import matplotlib.pyplot as plt\n",
        "import cv2\n",
        "import glob\n",
        "from sklearn.model_selection import train_test_split\n",
        "from tensorflow.keras.layers import Input,Dense,Conv2D,Dropout,Flatten,BatchNormalization,MaxPooling2D,GlobalMaxPooling2D\n",
        "from tensorflow.keras.models import Model\n",
        "from tensorflow.keras.optimizers import Adam\n",
        "from tensorflow.keras.preprocessing.image import ImageDataGenerator"
      ],
      "execution_count": 0,
      "outputs": []
    },
    {
      "cell_type": "code",
      "metadata": {
        "id": "S1wwDSYDEZTL",
        "colab_type": "code",
        "colab": {}
      },
      "source": [
        "from sklearn.preprocessing import LabelEncoder"
      ],
      "execution_count": 0,
      "outputs": []
    },
    {
      "cell_type": "code",
      "metadata": {
        "id": "QBDHws56Cp61",
        "colab_type": "code",
        "outputId": "ec338706-ea06-4ab8-a8b8-7797b6a1d4ce",
        "colab": {
          "base_uri": "https://localhost:8080/",
          "height": 204
        }
      },
      "source": [
        "train=pd.read_csv(\"/content/labels.csv\")\n",
        "train.head()"
      ],
      "execution_count": 0,
      "outputs": [
        {
          "output_type": "execute_result",
          "data": {
            "text/html": [
              "<div>\n",
              "<style scoped>\n",
              "    .dataframe tbody tr th:only-of-type {\n",
              "        vertical-align: middle;\n",
              "    }\n",
              "\n",
              "    .dataframe tbody tr th {\n",
              "        vertical-align: top;\n",
              "    }\n",
              "\n",
              "    .dataframe thead th {\n",
              "        text-align: right;\n",
              "    }\n",
              "</style>\n",
              "<table border=\"1\" class=\"dataframe\">\n",
              "  <thead>\n",
              "    <tr style=\"text-align: right;\">\n",
              "      <th></th>\n",
              "      <th>id</th>\n",
              "      <th>breed</th>\n",
              "    </tr>\n",
              "  </thead>\n",
              "  <tbody>\n",
              "    <tr>\n",
              "      <th>0</th>\n",
              "      <td>000bec180eb18c7604dcecc8fe0dba07</td>\n",
              "      <td>boston_bull</td>\n",
              "    </tr>\n",
              "    <tr>\n",
              "      <th>1</th>\n",
              "      <td>001513dfcb2ffafc82cccf4d8bbaba97</td>\n",
              "      <td>dingo</td>\n",
              "    </tr>\n",
              "    <tr>\n",
              "      <th>2</th>\n",
              "      <td>001cdf01b096e06d78e9e5112d419397</td>\n",
              "      <td>pekinese</td>\n",
              "    </tr>\n",
              "    <tr>\n",
              "      <th>3</th>\n",
              "      <td>00214f311d5d2247d5dfe4fe24b2303d</td>\n",
              "      <td>bluetick</td>\n",
              "    </tr>\n",
              "    <tr>\n",
              "      <th>4</th>\n",
              "      <td>0021f9ceb3235effd7fcde7f7538ed62</td>\n",
              "      <td>golden_retriever</td>\n",
              "    </tr>\n",
              "  </tbody>\n",
              "</table>\n",
              "</div>"
            ],
            "text/plain": [
              "                                 id             breed\n",
              "0  000bec180eb18c7604dcecc8fe0dba07       boston_bull\n",
              "1  001513dfcb2ffafc82cccf4d8bbaba97             dingo\n",
              "2  001cdf01b096e06d78e9e5112d419397          pekinese\n",
              "3  00214f311d5d2247d5dfe4fe24b2303d          bluetick\n",
              "4  0021f9ceb3235effd7fcde7f7538ed62  golden_retriever"
            ]
          },
          "metadata": {
            "tags": []
          },
          "execution_count": 5
        }
      ]
    },
    {
      "cell_type": "code",
      "metadata": {
        "id": "BpZ361seC2sO",
        "colab_type": "code",
        "outputId": "3ee69cd6-37f5-448a-d35d-e0063640911f",
        "colab": {
          "base_uri": "https://localhost:8080/",
          "height": 204
        }
      },
      "source": [
        "train.head()"
      ],
      "execution_count": 0,
      "outputs": [
        {
          "output_type": "execute_result",
          "data": {
            "text/html": [
              "<div>\n",
              "<style scoped>\n",
              "    .dataframe tbody tr th:only-of-type {\n",
              "        vertical-align: middle;\n",
              "    }\n",
              "\n",
              "    .dataframe tbody tr th {\n",
              "        vertical-align: top;\n",
              "    }\n",
              "\n",
              "    .dataframe thead th {\n",
              "        text-align: right;\n",
              "    }\n",
              "</style>\n",
              "<table border=\"1\" class=\"dataframe\">\n",
              "  <thead>\n",
              "    <tr style=\"text-align: right;\">\n",
              "      <th></th>\n",
              "      <th>id</th>\n",
              "      <th>breed</th>\n",
              "    </tr>\n",
              "  </thead>\n",
              "  <tbody>\n",
              "    <tr>\n",
              "      <th>0</th>\n",
              "      <td>000bec180eb18c7604dcecc8fe0dba07</td>\n",
              "      <td>boston_bull</td>\n",
              "    </tr>\n",
              "    <tr>\n",
              "      <th>1</th>\n",
              "      <td>001513dfcb2ffafc82cccf4d8bbaba97</td>\n",
              "      <td>dingo</td>\n",
              "    </tr>\n",
              "    <tr>\n",
              "      <th>2</th>\n",
              "      <td>001cdf01b096e06d78e9e5112d419397</td>\n",
              "      <td>pekinese</td>\n",
              "    </tr>\n",
              "    <tr>\n",
              "      <th>3</th>\n",
              "      <td>00214f311d5d2247d5dfe4fe24b2303d</td>\n",
              "      <td>bluetick</td>\n",
              "    </tr>\n",
              "    <tr>\n",
              "      <th>4</th>\n",
              "      <td>0021f9ceb3235effd7fcde7f7538ed62</td>\n",
              "      <td>golden_retriever</td>\n",
              "    </tr>\n",
              "  </tbody>\n",
              "</table>\n",
              "</div>"
            ],
            "text/plain": [
              "                                 id             breed\n",
              "0  000bec180eb18c7604dcecc8fe0dba07       boston_bull\n",
              "1  001513dfcb2ffafc82cccf4d8bbaba97             dingo\n",
              "2  001cdf01b096e06d78e9e5112d419397          pekinese\n",
              "3  00214f311d5d2247d5dfe4fe24b2303d          bluetick\n",
              "4  0021f9ceb3235effd7fcde7f7538ed62  golden_retriever"
            ]
          },
          "metadata": {
            "tags": []
          },
          "execution_count": 11
        }
      ]
    },
    {
      "cell_type": "code",
      "metadata": {
        "id": "vkXckl5qDElE",
        "colab_type": "code",
        "outputId": "8d19a65d-7989-4d94-cb16-29150257050f",
        "colab": {
          "base_uri": "https://localhost:8080/",
          "height": 34
        }
      },
      "source": [
        "ximg=[]\n",
        "\n",
        "dogst=np.array(train[\"id\"])\n",
        "for dog in dogst:\n",
        "  img=cv2.imread(\"/content/train/\"+dog+\".jpg\")\n",
        "  img=cv2.resize(img,(160,160)).flatten()\n",
        "  img=np.array(img).reshape(160,160,3)\n",
        "  ximg.append(img)\n",
        "\n",
        "print(len(ximg))"
      ],
      "execution_count": 0,
      "outputs": [
        {
          "output_type": "stream",
          "text": [
            "10222\n"
          ],
          "name": "stdout"
        }
      ]
    },
    {
      "cell_type": "code",
      "metadata": {
        "id": "wZTGaNY5DgmF",
        "colab_type": "code",
        "colab": {}
      },
      "source": [
        "ximg=np.array(ximg)"
      ],
      "execution_count": 0,
      "outputs": []
    },
    {
      "cell_type": "code",
      "metadata": {
        "id": "p5bTdRc4D33t",
        "colab_type": "code",
        "outputId": "fd846a1b-8d6a-4207-93bf-895ca8c20f64",
        "colab": {
          "base_uri": "https://localhost:8080/",
          "height": 34
        }
      },
      "source": [
        "print(min(y_val))"
      ],
      "execution_count": 0,
      "outputs": [
        {
          "output_type": "stream",
          "text": [
            "1\n"
          ],
          "name": "stdout"
        }
      ]
    },
    {
      "cell_type": "code",
      "metadata": {
        "id": "wNHthcjdEP0t",
        "colab_type": "code",
        "colab": {}
      },
      "source": [
        "le=LabelEncoder()\n",
        "train[\"breed\"]=le.fit_transform(train[\"breed\"])\n",
        "trainclass=np.array(train[\"breed\"])"
      ],
      "execution_count": 0,
      "outputs": []
    },
    {
      "cell_type": "code",
      "metadata": {
        "id": "A1sq2GW6E3_X",
        "colab_type": "code",
        "colab": {}
      },
      "source": [
        "x_train,x_val,y_train,y_val=train_test_split(ximg,trainclass,test_size=0.2)\n",
        "y_train,y_val=y_train.flatten(),y_val.flatten()"
      ],
      "execution_count": 0,
      "outputs": []
    },
    {
      "cell_type": "code",
      "metadata": {
        "id": "GSX-TMHSFWg3",
        "colab_type": "code",
        "colab": {}
      },
      "source": [
        "\"\"\"i=Input(shape=x_train[0].shape)\n",
        "x=Conv2D(16,(3,3),strides=2,activation=\"relu\")(i)\n",
        "#x=BatchNormalization()(x)\n",
        "#x=MaxPooling2D(2,2)(x)\n",
        "x=Conv2D(32,(3,3),strides=2,activation=\"relu\")(x)\n",
        "#x=BatchNormalization()(x)\n",
        "#x=MaxPooling2D(2,2)(x)\n",
        "\n",
        "x=Conv2D(32,(3,3),strides=2,activation=\"relu\")(x)\n",
        "#x=BatchNormalization()(x)\n",
        "#x=MaxPooling2D(2,2)(x)\n",
        "x=Conv2D(64,(3,3),strides=2,activation=\"relu\")(x)\n",
        "#x=BatchNormalization()(x)\n",
        "\n",
        "\n",
        "#x=Conv2D(128,(3,3),strides=2,activation=\"relu\")(x)\n",
        "#x=BatchNormalization()(x)\n",
        "#x=MaxPooling2D(2,2)(x)\n",
        "#x=Conv2D(128,(3,3),strides=2,activation=\"relu\")(x)\n",
        "#x=BatchNormalization()(x)\n",
        "\n",
        "\n",
        "x=GlobalMaxPooling2D()(x)\n",
        "#x=Dropout(0.2)(x)\n",
        "x=Dense(64,activation=\"relu\")(x)\n",
        "x=Dropout(0.2)(x)\n",
        "#x=Dense(1024,activation=\"relu\")(x)\n",
        "x=Dense(120,activation=\"softmax\")(x)\n",
        "\n",
        "#32,32,64,64,128,128,(3,3) and both dropouts-74%\n",
        "\n",
        "model=Model(i,x)\"\"\""
      ],
      "execution_count": 0,
      "outputs": []
    },
    {
      "cell_type": "code",
      "metadata": {
        "id": "v_ldWweJFnHj",
        "colab_type": "code",
        "colab": {}
      },
      "source": [
        "\"\"\"model.compile(optimizer=\"adam\",\n",
        "              loss=\"sparse_categorical_crossentropy\",\n",
        "              metrics=[\"accuracy\"])\n",
        "\n",
        "r=model.fit(x_train,y_train,validation_data=(x_val,y_val),epochs=20)\n",
        "\n",
        "plt.plot(r.history[\"loss\"],label=\"loss\")\n",
        "plt.plot(r.history[\"val_loss\"],label=\"val_loss\")\n",
        "plt.legend()\"\"\""
      ],
      "execution_count": 0,
      "outputs": []
    },
    {
      "cell_type": "code",
      "metadata": {
        "id": "eE9bQdofskWn",
        "colab_type": "code",
        "colab": {}
      },
      "source": [
        "pred=model.predict(x_val)\n",
        "classes=np.argmax(pred,axis=1)\n",
        "print(classes[7],y_val[7])"
      ],
      "execution_count": 0,
      "outputs": []
    },
    {
      "cell_type": "code",
      "metadata": {
        "id": "8f82q9JcGeVU",
        "colab_type": "code",
        "colab": {}
      },
      "source": [
        "plt.plot(r.history[\"accuracy\"],label=\"accuracy\")\n",
        "plt.plot(r.history[\"val_accuracy\"],label=\"val_accuracy\")\n",
        "plt.legend()"
      ],
      "execution_count": 0,
      "outputs": []
    },
    {
      "cell_type": "code",
      "metadata": {
        "id": "qHhRo4DnHJvp",
        "colab_type": "code",
        "colab": {}
      },
      "source": [
        "datagen=ImageDataGenerator(rotation_range=20,\n",
        "    width_shift_range=0.2,\n",
        "    height_shift_range=0.2,\n",
        "    horizontal_flip=True,\n",
        "    vertical_flip=True,\n",
        "    zoom_range=0.1)\n",
        "\n",
        "datagen.fit(x_train)"
      ],
      "execution_count": 0,
      "outputs": []
    },
    {
      "cell_type": "code",
      "metadata": {
        "id": "wzbnPjzmHP7W",
        "colab_type": "code",
        "colab": {}
      },
      "source": [
        "\"\"\"model.fit_generator(datagen.flow(x_train, y_train, batch_size=32),\n",
        "                    steps_per_epoch=len(x_train) / 32, validation_data=(x_val,y_val),epochs=20)\"\"\""
      ],
      "execution_count": 0,
      "outputs": []
    },
    {
      "cell_type": "code",
      "metadata": {
        "id": "t-80oykoHaLA",
        "colab_type": "code",
        "colab": {}
      },
      "source": [
        "\"\"\"plt.plot(r.history[\"loss\"],label=\"loss\")\n",
        "plt.plot(r.history[\"val_loss\"],label=\"val_loss\")\n",
        "plt.legend()\"\"\""
      ],
      "execution_count": 0,
      "outputs": []
    },
    {
      "cell_type": "code",
      "metadata": {
        "id": "iQ9UmvsfHb_v",
        "colab_type": "code",
        "colab": {}
      },
      "source": [
        "\"\"\"plt.plot(r.history[\"accuracy\"],label=\"accuracy\")\n",
        "plt.plot(r.history[\"val_accuracy\"],label=\"val_accuracy\")\n",
        "plt.legend()\"\"\""
      ],
      "execution_count": 0,
      "outputs": []
    },
    {
      "cell_type": "code",
      "metadata": {
        "id": "HhohBSk8Owqc",
        "colab_type": "code",
        "outputId": "14b68164-2449-4e9b-9df4-00e356e5fc49",
        "colab": {
          "base_uri": "https://localhost:8080/",
          "height": 54
        }
      },
      "source": [
        "i=Input(shape=x_train[0].shape)\n",
        "x=tf.keras.applications.MobileNetV2(include_top=False)(i)\n",
        "x.trainable=False\n",
        "x=Conv2D(32,(3,3),strides=2,activation=\"relu\")(x)\n",
        "x=BatchNormalization()(x)\n",
        "\n",
        "x=GlobalMaxPooling2D()(x)\n",
        "x=Dense(1024,activation=\"relu\")(x)\n",
        "x=Dropout(0.2)(x)\n",
        "x=Dense(512,activation=\"relu\")(x)\n",
        "x=Dropout(0.2)(x)\n",
        "x=Dense(120,activation=\"softmax\")(x)\n",
        "\n",
        "model=Model(i,x)"
      ],
      "execution_count": 0,
      "outputs": [
        {
          "output_type": "stream",
          "text": [
            "WARNING:tensorflow:`input_shape` is undefined or non-square, or `rows` is not in [96, 128, 160, 192, 224]. Weights for input shape (224, 224) will be loaded as the default.\n"
          ],
          "name": "stdout"
        }
      ]
    },
    {
      "cell_type": "code",
      "metadata": {
        "id": "yGOf1_WnQ6d1",
        "colab_type": "code",
        "outputId": "f9bd04b1-2421-44c1-d223-404c939dad2d",
        "colab": {
          "base_uri": "https://localhost:8080/",
          "height": 642
        }
      },
      "source": [
        "model.compile(optimizer=Adam(lr=0.0001),\n",
        "              loss=\"sparse_categorical_crossentropy\",\n",
        "              metrics=[\"accuracy\"])\n",
        "\n",
        "r=model.fit(x_train,y_train,validation_data=(x_val,y_val),epochs=10)\n",
        "\n",
        "plt.plot(r.history[\"loss\"],label=\"loss\")\n",
        "plt.plot(r.history[\"val_loss\"],label=\"val_loss\")\n",
        "plt.legend()"
      ],
      "execution_count": 0,
      "outputs": [
        {
          "output_type": "stream",
          "text": [
            "Epoch 1/10\n",
            "256/256 [==============================] - 24s 93ms/step - loss: 4.4990 - accuracy: 0.0591 - val_loss: 4.0080 - val_accuracy: 0.0963\n",
            "Epoch 2/10\n",
            "256/256 [==============================] - 23s 90ms/step - loss: 3.1655 - accuracy: 0.2362 - val_loss: 2.8407 - val_accuracy: 0.2709\n",
            "Epoch 3/10\n",
            "256/256 [==============================] - 23s 90ms/step - loss: 2.1485 - accuracy: 0.4153 - val_loss: 2.5436 - val_accuracy: 0.3218\n",
            "Epoch 4/10\n",
            "256/256 [==============================] - 23s 90ms/step - loss: 1.5090 - accuracy: 0.5637 - val_loss: 2.3630 - val_accuracy: 0.3707\n",
            "Epoch 5/10\n",
            "256/256 [==============================] - 23s 90ms/step - loss: 1.0742 - accuracy: 0.6804 - val_loss: 2.3023 - val_accuracy: 0.4054\n",
            "Epoch 6/10\n",
            "256/256 [==============================] - 23s 90ms/step - loss: 0.7681 - accuracy: 0.7730 - val_loss: 2.1908 - val_accuracy: 0.4264\n",
            "Epoch 7/10\n",
            "256/256 [==============================] - 23s 90ms/step - loss: 0.5520 - accuracy: 0.8345 - val_loss: 2.1788 - val_accuracy: 0.4479\n",
            "Epoch 8/10\n",
            "256/256 [==============================] - 23s 90ms/step - loss: 0.4263 - accuracy: 0.8744 - val_loss: 2.2490 - val_accuracy: 0.4401\n",
            "Epoch 9/10\n",
            "256/256 [==============================] - 23s 90ms/step - loss: 0.3168 - accuracy: 0.9115 - val_loss: 2.3303 - val_accuracy: 0.4484\n",
            "Epoch 10/10\n",
            "256/256 [==============================] - 23s 90ms/step - loss: 0.2709 - accuracy: 0.9204 - val_loss: 2.3803 - val_accuracy: 0.4724\n"
          ],
          "name": "stdout"
        },
        {
          "output_type": "execute_result",
          "data": {
            "text/plain": [
              "<matplotlib.legend.Legend at 0x7f36f6378438>"
            ]
          },
          "metadata": {
            "tags": []
          },
          "execution_count": 18
        },
        {
          "output_type": "display_data",
          "data": {
            "image/png": "[encoded data removed]",
            "text/plain": [
              "<Figure size 432x288 with 1 Axes>"
            ]
          },
          "metadata": {
            "tags": [],
            "needs_background": "light"
          }
        }
      ]
    },
    {
      "cell_type": "code",
      "metadata": {
        "id": "JkIKDSe6oDfe",
        "colab_type": "code",
        "outputId": "00668c0a-784c-4c14-bd86-f90b6422883b",
        "colab": {
          "base_uri": "https://localhost:8080/",
          "height": 282
        }
      },
      "source": [
        "plt.plot(r.history[\"loss\"],label=\"loss\")\n",
        "plt.plot(r.history[\"val_loss\"],label=\"val_loss\")\n",
        "plt.legend()"
      ],
      "execution_count": 0,
      "outputs": [
        {
          "output_type": "execute_result",
          "data": {
            "text/plain": [
              "<matplotlib.legend.Legend at 0x7f6987173fd0>"
            ]
          },
          "metadata": {
            "tags": []
          },
          "execution_count": 57
        },
        {
          "output_type": "display_data",
          "data": {
            "image/png": "[encoded data removed]",
            "text/plain": [
              "<Figure size 432x288 with 1 Axes>"
            ]
          },
          "metadata": {
            "tags": [],
            "needs_background": "light"
          }
        }
      ]
    },
    {
      "cell_type": "code",
      "metadata": {
        "id": "YjtaiKgwRzSs",
        "colab_type": "code",
        "outputId": "2723d23c-1adb-4344-b43b-b2fc9cb684ff",
        "colab": {
          "base_uri": "https://localhost:8080/",
          "height": 282
        }
      },
      "source": [
        "plt.plot(r.history[\"accuracy\"],label=\"accuracy\")\n",
        "plt.plot(r.history[\"val_accuracy\"],label=\"val_accuracy\")\n",
        "plt.legend()"
      ],
      "execution_count": 0,
      "outputs": [
        {
          "output_type": "execute_result",
          "data": {
            "text/plain": [
              "<matplotlib.legend.Legend at 0x7f6987415f98>"
            ]
          },
          "metadata": {
            "tags": []
          },
          "execution_count": 58
        },
        {
          "output_type": "display_data",
          "data": {
            "image/png": "[encoded data removed]",
            "text/plain": [
              "<Figure size 432x288 with 1 Axes>"
            ]
          },
          "metadata": {
            "tags": [],
            "needs_background": "light"
          }
        }
      ]
    },
    {
      "cell_type": "code",
      "metadata": {
        "id": "Uz6oiL5EjI1j",
        "colab_type": "code",
        "outputId": "54894fb8-0277-48db-fa99-08ea1ca496c6",
        "colab": {
          "base_uri": "https://localhost:8080/",
          "height": 785
        }
      },
      "source": [
        "model.fit_generator(datagen.flow(x_train, y_train, batch_size=32),\n",
        "                    steps_per_epoch=len(x_train) / 32, validation_data=(x_val,y_val),epochs=20)"
      ],
      "execution_count": 0,
      "outputs": [
        {
          "output_type": "stream",
          "text": [
            "WARNING:tensorflow:From <ipython-input-19-113060a454bf>:2: Model.fit_generator (from tensorflow.python.keras.engine.training) is deprecated and will be removed in a future version.\n",
            "Instructions for updating:\n",
            "Please use Model.fit, which supports generators.\n",
            "Epoch 1/20\n",
            "256/255 [==============================] - 49s 191ms/step - loss: 2.7281 - accuracy: 0.3534 - val_loss: 2.1097 - val_accuracy: 0.4753\n",
            "Epoch 2/20\n",
            "256/255 [==============================] - 49s 191ms/step - loss: 2.1273 - accuracy: 0.4359 - val_loss: 2.0694 - val_accuracy: 0.4650\n",
            "Epoch 3/20\n",
            "256/255 [==============================] - 49s 193ms/step - loss: 1.9228 - accuracy: 0.4805 - val_loss: 1.8173 - val_accuracy: 0.4929\n",
            "Epoch 4/20\n",
            "256/255 [==============================] - 50s 194ms/step - loss: 1.8300 - accuracy: 0.5030 - val_loss: 1.8171 - val_accuracy: 0.4944\n",
            "Epoch 5/20\n",
            "256/255 [==============================] - 49s 192ms/step - loss: 1.7011 - accuracy: 0.5223 - val_loss: 1.8817 - val_accuracy: 0.5002\n",
            "Epoch 6/20\n",
            "256/255 [==============================] - 49s 193ms/step - loss: 1.6101 - accuracy: 0.5484 - val_loss: 1.7983 - val_accuracy: 0.5169\n",
            "Epoch 7/20\n",
            "256/255 [==============================] - 50s 194ms/step - loss: 1.4866 - accuracy: 0.5766 - val_loss: 1.8584 - val_accuracy: 0.5218\n",
            "Epoch 8/20\n",
            "256/255 [==============================] - 49s 192ms/step - loss: 1.4273 - accuracy: 0.5864 - val_loss: 1.8998 - val_accuracy: 0.5139\n",
            "Epoch 9/20\n",
            "256/255 [==============================] - 49s 193ms/step - loss: 1.3975 - accuracy: 0.5975 - val_loss: 1.9386 - val_accuracy: 0.4988\n",
            "Epoch 10/20\n",
            "256/255 [==============================] - 49s 193ms/step - loss: 1.3071 - accuracy: 0.6274 - val_loss: 1.9278 - val_accuracy: 0.4954\n",
            "Epoch 11/20\n",
            "256/255 [==============================] - 50s 194ms/step - loss: 1.2442 - accuracy: 0.6400 - val_loss: 1.9308 - val_accuracy: 0.5076\n",
            "Epoch 12/20\n",
            "256/255 [==============================] - 49s 193ms/step - loss: 1.1807 - accuracy: 0.6527 - val_loss: 1.9255 - val_accuracy: 0.5090\n",
            "Epoch 13/20\n",
            "256/255 [==============================] - 49s 193ms/step - loss: 1.1440 - accuracy: 0.6645 - val_loss: 1.9935 - val_accuracy: 0.4866\n",
            "Epoch 14/20\n",
            "256/255 [==============================] - 49s 193ms/step - loss: 1.1302 - accuracy: 0.6633 - val_loss: 2.0379 - val_accuracy: 0.4856\n",
            "Epoch 15/20\n",
            "256/255 [==============================] - 49s 192ms/step - loss: 1.0631 - accuracy: 0.6926 - val_loss: 2.1218 - val_accuracy: 0.4924\n",
            "Epoch 16/20\n",
            "256/255 [==============================] - 49s 193ms/step - loss: 1.0135 - accuracy: 0.6981 - val_loss: 2.1744 - val_accuracy: 0.4738\n",
            "Epoch 17/20\n",
            "256/255 [==============================] - 50s 193ms/step - loss: 0.9732 - accuracy: 0.7143 - val_loss: 2.1838 - val_accuracy: 0.4787\n",
            "Epoch 18/20\n",
            "256/255 [==============================] - 49s 193ms/step - loss: 0.9375 - accuracy: 0.7157 - val_loss: 2.1644 - val_accuracy: 0.4939\n",
            "Epoch 19/20\n",
            "256/255 [==============================] - 49s 192ms/step - loss: 0.9131 - accuracy: 0.7210 - val_loss: 2.1476 - val_accuracy: 0.4910\n",
            "Epoch 20/20\n",
            "256/255 [==============================] - 49s 193ms/step - loss: 0.8588 - accuracy: 0.7358 - val_loss: 2.1290 - val_accuracy: 0.4944\n"
          ],
          "name": "stdout"
        },
        {
          "output_type": "execute_result",
          "data": {
            "text/plain": [
              "<tensorflow.python.keras.callbacks.History at 0x7f36d8654160>"
            ]
          },
          "metadata": {
            "tags": []
          },
          "execution_count": 19
        }
      ]
    }
  ]
}